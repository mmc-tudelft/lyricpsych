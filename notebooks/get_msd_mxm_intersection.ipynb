{
 "cells": [
  {
   "cell_type": "code",
   "execution_count": 1,
   "metadata": {},
   "outputs": [],
   "source": [
    "import pandas as pd"
   ]
  },
  {
   "cell_type": "code",
   "execution_count": 2,
   "metadata": {},
   "outputs": [
    {
     "name": "stderr",
     "output_type": "stream",
     "text": [
      "/hdd/envs/lib/python3.7/site-packages/ipykernel_launcher.py:1: ParserWarning: Falling back to the 'python' engine because the 'c' engine does not support regex separators (separators > 1 char and different from '\\s+' are interpreted as regex); you can avoid this warning by specifying engine='python'.\n",
      "  \"\"\"Entry point for launching an IPython kernel.\n",
      "/hdd/envs/lib/python3.7/site-packages/ipykernel_launcher.py:3: ParserWarning: Falling back to the 'python' engine because the 'c' engine does not support regex separators (separators > 1 char and different from '\\s+' are interpreted as regex); you can avoid this warning by specifying engine='python'.\n",
      "  This is separate from the ipykernel package so we can avoid doing imports until\n"
     ]
    }
   ],
   "source": [
    "mxm_matches = pd.read_csv('/hdd/mxm_779k_matches.txt', sep='<SEP>', skiprows=18, header=None)\n",
    "recsys_data = pd.read_csv('/hdd/data/train_triplets.txt', sep='\\t', header=None)\n",
    "tracks = pd.read_csv('/hdd/data/unique_tracks.txt', sep='<SEP>', header=None)\n",
    "\n",
    "sid2tid = dict(tracks[[1, 0]].values)\n",
    "recsys_data[1] = recsys_data[1].map(sid2tid)\n",
    "\n",
    "tid2mxm = dict(mxm_matches[[0, 3]].values)"
   ]
  },
  {
   "cell_type": "code",
   "execution_count": 17,
   "metadata": {},
   "outputs": [],
   "source": [
    "mxm2tid = {str(mxm):tid for tid, mxm in tid2mxm.items()}"
   ]
  },
  {
   "cell_type": "code",
   "execution_count": 13,
   "metadata": {},
   "outputs": [],
   "source": [
    "uniq_echonest_tid = recsys_data[1].unique()\n",
    "msd_echonest_mxm = [str(tid2mxm[tid]) for tid in uniq_echonest_tid if tid in tid2mxm]"
   ]
  },
  {
   "cell_type": "code",
   "execution_count": 5,
   "metadata": {},
   "outputs": [],
   "source": [
    "uniq_echonest_mxm = [tid2mxm[tid] for tid in uniq_echonest_tid if tid in tid2mxm]"
   ]
  },
  {
   "cell_type": "code",
   "execution_count": 6,
   "metadata": {},
   "outputs": [],
   "source": [
    "from os.path import dirname, basename, join\n",
    "import glob\n",
    "\n",
    "fns = glob.glob('/hdd/data/mxm_lyrics_30p/*.json')\n",
    "done = [basename(fn).split('.json')[0] for fn in fns]"
   ]
  },
  {
   "cell_type": "code",
   "execution_count": 55,
   "metadata": {},
   "outputs": [],
   "source": [
    "todo = set(msd_echonest_mxm) - set(done)"
   ]
  },
  {
   "cell_type": "code",
   "execution_count": 56,
   "metadata": {},
   "outputs": [],
   "source": [
    "with open('/hdd/data/mxm_tids.txt', 'w') as f:\n",
    "    for mxm in todo:\n",
    "        f.write('{}\\n'.format(mxm))"
   ]
  },
  {
   "cell_type": "code",
   "execution_count": 18,
   "metadata": {},
   "outputs": [],
   "source": [
    "y = [mxm2tid[i] for i in msd_echonest_mxm]"
   ]
  },
  {
   "cell_type": "code",
   "execution_count": 22,
   "metadata": {},
   "outputs": [],
   "source": [
    "with open('/hdd/data/mxmmsdrecsys_tids_all.txt', 'w') as f:\n",
    "    for tid in y:\n",
    "        f.write('{}\\n'.format(tid))"
   ]
  },
  {
   "cell_type": "code",
   "execution_count": null,
   "metadata": {},
   "outputs": [],
   "source": []
  }
 ],
 "metadata": {
  "kernelspec": {
   "display_name": "Python 3",
   "language": "python",
   "name": "python3"
  },
  "language_info": {
   "codemirror_mode": {
    "name": "ipython",
    "version": 3
   },
   "file_extension": ".py",
   "mimetype": "text/x-python",
   "name": "python",
   "nbconvert_exporter": "python",
   "pygments_lexer": "ipython3",
   "version": "3.6.9"
  }
 },
 "nbformat": 4,
 "nbformat_minor": 4
}
