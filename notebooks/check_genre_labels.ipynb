{
 "cells": [
  {
   "cell_type": "code",
   "execution_count": 2,
   "metadata": {},
   "outputs": [],
   "source": [
    "import glob\n",
    "import json\n",
    "from collections import Counter\n",
    "\n",
    "import numpy as np\n",
    "import matplotlib.pyplot as plt\n",
    "\n",
    "from tqdm import tqdm"
   ]
  },
  {
   "cell_type": "markdown",
   "metadata": {},
   "source": [
    "# Check MW - MSD genre distribution"
   ]
  },
  {
   "cell_type": "code",
   "execution_count": 77,
   "metadata": {},
   "outputs": [],
   "source": [
    "target_fn = '/hdd/data/mxmmsdrecsys_tids_all.txt'\n",
    "targets = set([\n",
    "    l.strip('\\n') for l\n",
    "    in open(target_fn).readlines()\n",
    "])"
   ]
  },
  {
   "cell_type": "code",
   "execution_count": 91,
   "metadata": {},
   "outputs": [],
   "source": [
    "sid2tid = {}\n",
    "with open('/hdd/data/unique_tracks.txt') as f:\n",
    "    for line in f:\n",
    "        tid, sid = line.split('<SEP>')[:2]\n",
    "        sid2tid[sid] = tid"
   ]
  },
  {
   "cell_type": "code",
   "execution_count": 7,
   "metadata": {},
   "outputs": [],
   "source": [
    "fns = glob.glob('/hdd/data/millionsongdataset_echonest/*/*.json')"
   ]
  },
  {
   "cell_type": "code",
   "execution_count": 87,
   "metadata": {},
   "outputs": [
    {
     "name": "stderr",
     "output_type": "stream",
     "text": [
      "100%|████████████████████████████████| 999056/999056 [01:27<00:00, 11401.33it/s]\n"
     ]
    }
   ],
   "source": [
    "msd2spotify = []\n",
    "with tqdm(total=len(fns), ncols=80) as p:\n",
    "    for fn in fns:\n",
    "        d = json.load(open(fn))\n",
    "        data = {\n",
    "            song['id']: {\n",
    "                t['id']:t['foreign_id']\n",
    "                for t in song['tracks']\n",
    "                if t['foreign_id'][:4] == 'spot'\n",
    "            }\n",
    "            for song in d['response']['songs']\n",
    "        }\n",
    "        msd2spotify.append(data)\n",
    "        p.update(1)"
   ]
  },
  {
   "cell_type": "code",
   "execution_count": 127,
   "metadata": {},
   "outputs": [],
   "source": [
    "n_songs = [len(s) for s in msd2spotify]\n",
    "n_tracks = [len(list(s.values())[0]) if len(s) > 0 else 0 for s in msd2spotify]"
   ]
  },
  {
   "cell_type": "code",
   "execution_count": 128,
   "metadata": {},
   "outputs": [
    {
     "data": {
      "text/plain": [
       "Counter({1: 793116, 0: 205940})"
      ]
     },
     "execution_count": 128,
     "metadata": {},
     "output_type": "execute_result"
    }
   ],
   "source": [
    "Counter(n_songs)"
   ]
  },
  {
   "cell_type": "code",
   "execution_count": 129,
   "metadata": {},
   "outputs": [
    {
     "data": {
      "image/png": "[encoded data removed]",
      "text/plain": [
       "<Figure size 432x288 with 1 Axes>"
      ]
     },
     "metadata": {
      "needs_background": "light"
     },
     "output_type": "display_data"
    }
   ],
   "source": [
    "plt.bar(range(max(n_tracks)+1), np.bincount(n_tracks))\n",
    "plt.yscale('log')"
   ]
  },
  {
   "cell_type": "code",
   "execution_count": 130,
   "metadata": {},
   "outputs": [
    {
     "data": {
      "image/png": "[encoded data removed]",
      "text/plain": [
       "<Figure size 432x288 with 1 Axes>"
      ]
     },
     "metadata": {
      "needs_background": "light"
     },
     "output_type": "display_data"
    }
   ],
   "source": [
    "plt.bar(range(max(n_tracks)+1), np.cumsum(np.bincount(n_tracks) / len(n_tracks)))\n",
    "plt.xscale('log')"
   ]
  },
  {
   "cell_type": "code",
   "execution_count": 119,
   "metadata": {},
   "outputs": [],
   "source": [
    "msd2spotify_survived = [\n",
    "    tuple(songs.items())[0] for songs in [\n",
    "        {\n",
    "            s:t for s, t in songs.items()\n",
    "            if (s in sid2tid) and (sid2tid[s] in targets)\n",
    "        }\n",
    "        for songs in msd2spotify\n",
    "    ] if len(songs) > 0\n",
    "]"
   ]
  },
  {
   "cell_type": "code",
   "execution_count": 141,
   "metadata": {},
   "outputs": [],
   "source": [
    "msd2spotify_triplet = []\n",
    "for sid, tracks in msd2spotify_survived:\n",
    "    for tid, spot_id in tracks.items():\n",
    "        msd2spotify_triplet.append((sid, tid, spot_id))\n",
    "        \n",
    "msd2spotify_ids_set = set([r[2].split(':')[-1] for r in msd2spotify_triplet])"
   ]
  },
  {
   "cell_type": "code",
   "execution_count": 146,
   "metadata": {},
   "outputs": [],
   "source": [
    "survived_mw_spotify_ids = []\n",
    "mw_meta_fn = '/hdd/data/mw_spotify_labels.tab'\n",
    "with open(mw_meta_fn, encoding=\"utf8\", errors='ignore') as f:\n",
    "    for line in f:\n",
    "        i, mw_al_id, mw_tr_id, mw_spot_id, mw_genre, _, _ = line.strip('\\n').split('\\t')\n",
    "        if mw_spot_id in msd2spotify_ids_set:\n",
    "            survived_mw_spotify_ids.append((i, mw_al_id, mw_tr_id, mw_spot_id, mw_genre))"
   ]
  },
  {
   "cell_type": "code",
   "execution_count": null,
   "metadata": {},
   "outputs": [],
   "source": [
    "genre_hist = sorted(\n",
    "    Counter([r[4] for r in survived_mw_spotify_ids]).items(),\n",
    "    key=lambda r:-r[1]\n",
    ")"
   ]
  },
  {
   "cell_type": "code",
   "execution_count": 172,
   "metadata": {},
   "outputs": [
    {
     "data": {
      "text/plain": [
       "103073"
      ]
     },
     "execution_count": 172,
     "metadata": {},
     "output_type": "execute_result"
    }
   ],
   "source": [
    "len(survived_mw_spotify_ids)"
   ]
  },
  {
   "cell_type": "markdown",
   "metadata": {},
   "source": [
    "## Result\n",
    "\n",
    "1. Number of samples filtered down from 332,674 to 103,073. I expect there must be some bias introduced to the data from the Dutch music market (~preference? demend?)\n",
    "2. It will be further filtered down to about 75% of it (~75,000) due to the missing data of MxM database and the non-English entries\n",
    "3. Genre distribution looks like this. (top 30 genres / taking account ~65% of the data, meaning the other 35% of data mapped to more granular genres ~2.6k)"
   ]
  },
  {
   "cell_type": "code",
   "execution_count": 170,
   "metadata": {},
   "outputs": [
    {
     "data": {
      "text/plain": [
       "<matplotlib.axes._subplots.AxesSubplot at 0x7fe563dda9d0>"
      ]
     },
     "execution_count": 170,
     "metadata": {},
     "output_type": "execute_result"
    },
    {
     "data": {
      "image/png": "[encoded data removed]",
      "text/plain": [
       "<Figure size 360x720 with 1 Axes>"
      ]
     },
     "metadata": {
      "needs_background": "light"
     },
     "output_type": "display_data"
    }
   ],
   "source": [
    "df = pd.DataFrame(genre_hist)\n",
    "fig, ax = plt.subplots(1,1,figsize=(5, 10))\n",
    "sns.barplot(x=df[1][:30], y=df[0][:30], data=df, orient='h', ax=ax)"
   ]
  },
  {
   "cell_type": "markdown",
   "metadata": {},
   "source": [
    "# Checking MSD - TagTraum genre set"
   ]
  },
  {
   "cell_type": "code",
   "execution_count": 183,
   "metadata": {},
   "outputs": [],
   "source": [
    "msd2tagtraum = []\n",
    "with open('/hdd/data/msd_tagtraum_cd2c.cls') as f:\n",
    "    for i, line in enumerate(f):\n",
    "        if i > 6:\n",
    "            tid, genre = line.strip('\\n').split('\\t')\n",
    "            msd2tagtraum.append((tid, genre))"
   ]
  },
  {
   "cell_type": "code",
   "execution_count": 188,
   "metadata": {},
   "outputs": [
    {
     "data": {
      "text/plain": [
       "109274"
      ]
     },
     "execution_count": 188,
     "metadata": {},
     "output_type": "execute_result"
    }
   ],
   "source": [
    "tagtraum_targets = (\n",
    "    set([r[0] for r in msd2tagtraum])\n",
    "    .intersection(set(targets))\n",
    ")\n",
    "len(tagtraum_targets)"
   ]
  },
  {
   "cell_type": "code",
   "execution_count": 194,
   "metadata": {},
   "outputs": [],
   "source": [
    "tagtraum_genres = sorted(\n",
    "    Counter([r[1] for r in msd2tagtraum\n",
    "     if r[0] in tagtraum_targets]).items(),\n",
    "    key=lambda r: -r[1]\n",
    ")\n",
    "tagtraum_genres = pd.DataFrame(tagtraum_genres)"
   ]
  },
  {
   "cell_type": "markdown",
   "metadata": {},
   "source": [
    "## Result\n",
    "\n",
    "1. Number of samples filtered down from 332,674 to 109,274. Filtering bias is from the platform where the researchers choose to pull out the relevant info for the genre mapping.\n",
    "2. Again, it will be further filtered down to about 75% of it (~75,000) due to the missing data of MxM database and the non-English entries\n",
    "3. Genre distribution looks like this."
   ]
  },
  {
   "cell_type": "code",
   "execution_count": 195,
   "metadata": {},
   "outputs": [
    {
     "data": {
      "text/plain": [
       "<matplotlib.axes._subplots.AxesSubplot at 0x7fe5629f8ad0>"
      ]
     },
     "execution_count": 195,
     "metadata": {},
     "output_type": "execute_result"
    },
    {
     "data": {
      "image/png": "[encoded data removed]",
      "text/plain": [
       "<Figure size 432x288 with 1 Axes>"
      ]
     },
     "metadata": {
      "needs_background": "light"
     },
     "output_type": "display_data"
    }
   ],
   "source": [
    "sns.barplot(x=1, y=0, data=tagtraum_genres)"
   ]
  },
  {
   "cell_type": "code",
   "execution_count": null,
   "metadata": {},
   "outputs": [],
   "source": []
  }
 ],
 "metadata": {
  "kernelspec": {
   "display_name": "Python 3",
   "language": "python",
   "name": "python3"
  },
  "language_info": {
   "codemirror_mode": {
    "name": "ipython",
    "version": 3
   },
   "file_extension": ".py",
   "mimetype": "text/x-python",
   "name": "python",
   "nbconvert_exporter": "python",
   "pygments_lexer": "ipython3",
   "version": "3.7.4"
  }
 },
 "nbformat": 4,
 "nbformat_minor": 4
}
