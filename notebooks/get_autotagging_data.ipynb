{
 "cells": [
  {
   "cell_type": "code",
   "execution_count": 1,
   "metadata": {},
   "outputs": [],
   "source": [
    "import pandas as pd\n",
    "import sqlite3\n",
    "from scipy import sparse as sp\n",
    "import numpy as np\n",
    "import h5py"
   ]
  },
  {
   "cell_type": "markdown",
   "metadata": {},
   "source": [
    "## Load relevant data"
   ]
  },
  {
   "cell_type": "code",
   "execution_count": 2,
   "metadata": {},
   "outputs": [
    {
     "name": "stderr",
     "output_type": "stream",
     "text": [
      "/hdd/envs/lib/python3.7/site-packages/ipykernel_launcher.py:4: ParserWarning: Falling back to the 'python' engine because the 'c' engine does not support regex separators (separators > 1 char and different from '\\s+' are interpreted as regex); you can avoid this warning by specifying engine='python'.\n",
      "  after removing the cwd from sys.path.\n"
     ]
    }
   ],
   "source": [
    "# with open('/hdd/data/mxm_tids.txt') as f:\n",
    "#     mxm_tids = [line.strip('\\n') for line in f]\n",
    "    \n",
    "mxm_matches = pd.read_csv('/hdd/mxm_779k_matches.txt', sep='<SEP>', skiprows=18, header=None)\n",
    "tid2mxm = dict(mxm_matches[[0, 3]].values)\n",
    "mxm2tid = {mxm:tid for tid, mxm in tid2mxm.items()}\n",
    "\n",
    "with h5py.File('/hdd/data/text_feat_test.h5') as hf:\n",
    "    mxm_tids = hf['features']['ids'][:]"
   ]
  },
  {
   "cell_type": "code",
   "execution_count": 3,
   "metadata": {},
   "outputs": [],
   "source": [
    "with sqlite3.connect('/hdd/data/lastfm_tags.db') as conn:\n",
    "    cur = conn.cursor()\n",
    "    tid_tag = [\n",
    "        (r[0]-1, r[1]-1, r[2]) for r in\n",
    "        cur.execute('SELECT * FROM tid_tag').fetchall()\n",
    "    ]\n",
    "    tids = [r[0] for r in cur.execute('SELECT * FROM tids').fetchall()]\n",
    "    tags = [r[0] for r in cur.execute('SELECT * FROM tags').fetchall()]"
   ]
  },
  {
   "cell_type": "code",
   "execution_count": 4,
   "metadata": {},
   "outputs": [
    {
     "data": {
      "text/plain": [
       "8598630"
      ]
     },
     "execution_count": 4,
     "metadata": {},
     "output_type": "execute_result"
    }
   ],
   "source": [
    "len(tid_tag)"
   ]
  },
  {
   "cell_type": "markdown",
   "metadata": {},
   "source": [
    "### Filter out tracks that matches to the MxM"
   ]
  },
  {
   "cell_type": "code",
   "execution_count": 5,
   "metadata": {},
   "outputs": [],
   "source": [
    "target_tids = set(tid2mxm).intersection(set(tids))\n",
    "target_indices = {i for i, tid in enumerate(tids) if tid in target_tids}\n",
    "tid_tag = [r for r in tid_tag if r[0] in target_indices]"
   ]
  },
  {
   "cell_type": "code",
   "execution_count": 6,
   "metadata": {},
   "outputs": [
    {
     "data": {
      "text/plain": [
       "8267618"
      ]
     },
     "execution_count": 6,
     "metadata": {},
     "output_type": "execute_result"
    }
   ],
   "source": [
    "len(tid_tag)"
   ]
  },
  {
   "cell_type": "markdown",
   "metadata": {},
   "source": [
    "### Filter out tags that don't belong to the top-50 list"
   ]
  },
  {
   "cell_type": "code",
   "execution_count": 15,
   "metadata": {},
   "outputs": [],
   "source": [
    "K = 50\n",
    "\n",
    "tag_pop = {}\n",
    "for row in tid_tag:\n",
    "    if row[1] not in tag_pop:\n",
    "        tag_pop[row[1]] = 1\n",
    "    else:\n",
    "        tag_pop[row[1]] += 1\n",
    "\n",
    "top_tags = [t for t, c in sorted(tag_pop.items(), key=lambda x:-x[1])[:K]]\n",
    "tid_tag = [r for r in tid_tag if r[1] in top_tags]"
   ]
  },
  {
   "cell_type": "code",
   "execution_count": 16,
   "metadata": {},
   "outputs": [
    {
     "data": {
      "text/plain": [
       "1319704"
      ]
     },
     "execution_count": 16,
     "metadata": {},
     "output_type": "execute_result"
    }
   ],
   "source": [
    "len(tid_tag)"
   ]
  },
  {
   "cell_type": "markdown",
   "metadata": {},
   "source": [
    "### Swap indices to new ones"
   ]
  },
  {
   "cell_type": "code",
   "execution_count": 17,
   "metadata": {},
   "outputs": [],
   "source": [
    "unique_tracks = {t:i for i, t in enumerate(target_indices)}\n",
    "unique_tags = {t:i for i, t in enumerate(top_tags)}\n",
    "tid_tag = [(unique_tracks[r[0]], unique_tags[r[1]], r[2]) for r in tid_tag]"
   ]
  },
  {
   "cell_type": "code",
   "execution_count": null,
   "metadata": {},
   "outputs": [],
   "source": [
    "I, J, V = zip(*tid_tag)\n",
    "Y = sp.coo_matrix((V, (I, J))).tocsr()\n",
    "unique_tags = {i:tags[t] for t, i in unique_tags.items()}\n",
    "unique_tracks = {i:tids[t] for t, i in unique_tracks.items()}"
   ]
  },
  {
   "cell_type": "markdown",
   "metadata": {},
   "source": [
    "## Save the data"
   ]
  },
  {
   "cell_type": "code",
   "execution_count": 23,
   "metadata": {},
   "outputs": [],
   "source": [
    "track_list = np.array(\n",
    "    [unique_tracks[i] for i in range(Y.shape[0])],\n",
    "    dtype=h5py.special_dtype(vlen=str)\n",
    ")\n",
    "tag_list = np.array(\n",
    "    [unique_tags[i] for i in range(Y.shape[1])],\n",
    "    dtype=h5py.special_dtype(vlen=str)\n",
    ")\n",
    "with h5py.File('/hdd/data/autotagging_data.h5', 'w') as hf:\n",
    "    hf.create_dataset('data', data=Y.data)\n",
    "    hf.create_dataset('indices', data=Y.indices)\n",
    "    hf.create_dataset('indptr', data=Y.indptr)\n",
    "    hf.create_dataset('tracks', data=track_list)\n",
    "    hf.create_dataset('tags', data=tag_list)"
   ]
  },
  {
   "cell_type": "code",
   "execution_count": null,
   "metadata": {},
   "outputs": [],
   "source": []
  }
 ],
 "metadata": {
  "kernelspec": {
   "display_name": "Python 3",
   "language": "python",
   "name": "python3"
  },
  "language_info": {
   "codemirror_mode": {
    "name": "ipython",
    "version": 3
   },
   "file_extension": ".py",
   "mimetype": "text/x-python",
   "name": "python",
   "nbconvert_exporter": "python",
   "pygments_lexer": "ipython3",
   "version": "3.6.9"
  }
 },
 "nbformat": 4,
 "nbformat_minor": 4
}
