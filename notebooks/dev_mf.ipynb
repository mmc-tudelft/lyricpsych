{
 "cells": [
  {
   "cell_type": "code",
   "execution_count": 1,
   "metadata": {},
   "outputs": [],
   "source": [
    "import os\n",
    "os.environ['LIWC_PATH'] = \"data/LIWC.json\"\n",
    "os.environ['OPENBLAS_NUM_THREADS'] = '1'\n",
    "from os.path import join, dirname\n",
    "import sys\n",
    "sys.path.append('../')\n",
    "\n",
    "from functools import partial\n",
    "\n",
    "import numpy as np\n",
    "from scipy import sparse as sp\n",
    "import numba as nb\n",
    "from torch.utils.data import DataLoader\n",
    "from sklearn.preprocessing import StandardScaler, QuantileTransformer\n",
    "\n",
    "from lyricpsych.utils import (load_csr_data,\n",
    "                              split_recsys_data,\n",
    "                              slice_row_sparse,\n",
    "                              prepare_feature,\n",
    "                              get_all_comb)\n",
    "from lyricpsych.tasks.fm import *\n",
    "from lyricpsych.tasks.als_feat import *\n",
    "from lyricpsych.tasks.recsys import UserKNN, build_user_profile\n",
    "from lyricpsych.utils import split_recsys_data, slice_row_sparse\n",
    "from lyricpsych.metrics import ndcg\n",
    "\n",
    "from implicit.als import AlternatingLeastSquares\n",
    "import matplotlib.pyplot as plt\n",
    "from tqdm import tqdm\n",
    "\n",
    "\n",
    "def load_data(recsys_data_fn, text_feat_data_fn):\n",
    "    \"\"\"\"\"\"\n",
    "    print('Loading data...')\n",
    "    X, users, items = load_csr_data(recsys_data_fn)\n",
    "    item_hash_rec_data = {tid:j for j, tid in enumerate(items)}\n",
    "    feature, track2id, pca, sclr, feature_sets = prepare_feature(text_feat_data_fn)\n",
    "    \n",
    "    mutual_tid = [tid for tid in items if tid in track2id]\n",
    "    ix = [track2id[i] for i in mutual_tid]\n",
    "    Y = np.concatenate(\n",
    "        [feat[ix] for k, feat in feature.items()],\n",
    "        axis=1\n",
    "    )\n",
    "    \n",
    "    sclr = StandardScaler()\n",
    "    # sclr = QuantileTransformer()\n",
    "    Y = sclr.fit_transform(Y)\n",
    "    mut_tid_set = set(mutual_tid)\n",
    "    targets = [item_hash_rec_data[tid] for tid in mutual_tid]\n",
    "    X2 = X[:, targets]\n",
    "    return X2, Y, users, mutual_tid"
   ]
  },
  {
   "cell_type": "markdown",
   "metadata": {},
   "source": [
    "# Possibilities\n",
    "\n",
    "1. partial learning of item factor for given seed tags and the feature using ALS\n",
    "2. hybrid model using NN as the feature encoder and the ALS for other parts\n",
    "    - 1 iteration:: ALS(user) -> ALS(item) -> ALS(feat>item)\n",
    "    - issues such as learning time / more parameters\n",
    "    - potentially better model will be obtained anyway\n",
    "3. performance?"
   ]
  },
  {
   "cell_type": "code",
   "execution_count": 2,
   "metadata": {},
   "outputs": [
    {
     "name": "stdout",
     "output_type": "stream",
     "text": [
      "Loading data...\n",
      "Splitting the data...\n"
     ]
    }
   ],
   "source": [
    "# HERE WE LOAD DATA\n",
    "root = '/home/jaykim/Documents/workbench/lyricpsych/'\n",
    "recsys_data_fn = join(root, 'data/recsys_data.h5')\n",
    "text_feat_data_fn = join(root, 'data/text_feat_test.h5')\n",
    "X, Y, users, items = load_data(recsys_data_fn, text_feat_data_fn)\n",
    "\n",
    "print('Splitting the data...')\n",
    "Xtr, Xvl, Xts = split_recsys_data(X, train_ratio=0.8, valid_ratio=0.1)"
   ]
  },
  {
   "cell_type": "code",
   "execution_count": 31,
   "metadata": {},
   "outputs": [],
   "source": [
    "# split itemwise\n",
    "rnd_idx = np.random.permutation(X.shape[1])\n",
    "train_bound = int(len(rnd_idx) * 0.6)\n",
    "valid_bound = train_bound + int(len(rnd_idx) * 0.2)\n",
    "\n",
    "Ytr = Y[rnd_idx[:train_bound]]\n",
    "Yvl = Y[rnd_idx[train_bound:valid_bound]]\n",
    "Yts = Y[rnd_idx[valid_bound:]]\n",
    "\n",
    "Xtrtr = X[:, rnd_idx[:train_bound]]\n",
    "Xvlvl = X[:, rnd_idx[train_bound:valid_bound]]\n",
    "Xtsts = X[:, rnd_idx[valid_bound:]]"
   ]
  },
  {
   "cell_type": "code",
   "execution_count": 117,
   "metadata": {},
   "outputs": [
    {
     "name": "stderr",
     "output_type": "stream",
     "text": [
      "[vacc=0.1240]: 100%|████████████████████████████| 15/15 [07:10<00:00, 28.73s/it]\n"
     ]
    }
   ],
   "source": [
    "mf = ALSFeat(32, lmbda=1e+2, l2=1e-4, alpha=10)\n",
    "mf.fit(Xtr, Y[:, 240:], Xvl, verbose=True)"
   ]
  },
  {
   "cell_type": "code",
   "execution_count": 118,
   "metadata": {},
   "outputs": [
    {
     "name": "stderr",
     "output_type": "stream",
     "text": [
      "[vacc=0.0000]: 100%|████████████████████████████| 15/15 [05:45<00:00, 23.04s/it]\n"
     ]
    }
   ],
   "source": [
    "mf = ALSFeat(32, lmbda=1e+2, l2=1e-4, alpha=10)\n",
    "mf.fit(Xtrtr, Ytr[:, 240:], verbose=True)"
   ]
  },
  {
   "cell_type": "code",
   "execution_count": 123,
   "metadata": {},
   "outputs": [
    {
     "data": {
      "text/plain": [
       "MLPRegressor(activation='relu', alpha=0.0001, batch_size='auto', beta_1=0.9,\n",
       "             beta_2=0.999, early_stopping=False, epsilon=1e-08,\n",
       "             hidden_layer_sizes=(256, 256), learning_rate='constant',\n",
       "             learning_rate_init=0.001, max_iter=200, momentum=0.9,\n",
       "             n_iter_no_change=10, nesterovs_momentum=True, power_t=0.5,\n",
       "             random_state=None, shuffle=True, solver='adam', tol=0.0001,\n",
       "             validation_fraction=0.1, verbose=False, warm_start=False)"
      ]
     },
     "execution_count": 123,
     "metadata": {},
     "output_type": "execute_result"
    }
   ],
   "source": [
    "from sklearn.neural_network import MLPRegressor\n",
    "\n",
    "mlp = MLPRegressor((256, 256))\n",
    "mlp.fit(Ytr[:, 240:], mf.embeddings_['item'])"
   ]
  },
  {
   "cell_type": "code",
   "execution_count": 124,
   "metadata": {},
   "outputs": [],
   "source": [
    "X_test = sp.hstack([Xtrtr, Xvlvl]).tocsr()\n",
    "V = mf.embeddings_['item']\n",
    "# Vvl = Yvl[:, 240:] @ mf.embeddings_['feat']\n",
    "Vvl = mlp.predict(Yvl[:, 240:])\n",
    "Vfull = np.concatenate([V, Vvl], axis=0)"
   ]
  },
  {
   "cell_type": "code",
   "execution_count": 125,
   "metadata": {},
   "outputs": [],
   "source": [
    "scores = []\n",
    "n_tests = 2000\n",
    "topk = 100\n",
    "for u in np.random.choice(X_test.shape[0], n_tests, False):\n",
    "    pos = X_test[u].indices\n",
    "    train, true = pos[pos < train_bound], pos[pos >= train_bound]\n",
    "    if len(true) == 0:\n",
    "        continue\n",
    "    s = mf.embeddings_['user'][u] @ Vfull.T\n",
    "    s[train] = -np.inf\n",
    "    idx = np.argpartition(-s, kth=topk)[:topk]\n",
    "    pred = idx[np.argsort(-s[idx])]\n",
    "    scores.append(ndcg(true, pred, topk))"
   ]
  },
  {
   "cell_type": "code",
   "execution_count": 126,
   "metadata": {},
   "outputs": [
    {
     "data": {
      "text/plain": [
       "0.0003114327710214556"
      ]
     },
     "execution_count": 126,
     "metadata": {},
     "output_type": "execute_result"
    }
   ],
   "source": [
    "np.mean(scores)"
   ]
  },
  {
   "cell_type": "code",
   "execution_count": 92,
   "metadata": {},
   "outputs": [],
   "source": [
    "U = mf.embeddings_['user']\n",
    "V = mf.embeddings_['item']\n",
    "W = mf.embeddings_['feat']\n",
    "# Y_ = Y[:, 240:]\n",
    "# L = ((V - Y_ @ W)**2).sum()\n",
    "# print(L)"
   ]
  },
  {
   "cell_type": "code",
   "execution_count": 93,
   "metadata": {},
   "outputs": [
    {
     "data": {
      "text/plain": [
       "<matplotlib.image.AxesImage at 0x7f6f49caef28>"
      ]
     },
     "execution_count": 93,
     "metadata": {},
     "output_type": "execute_result"
    },
    {
     "data": {
      "image/png": "[encoded data removed]",
      "text/plain": [
       "<Figure size 432x288 with 1 Axes>"
      ]
     },
     "metadata": {
      "needs_background": "light"
     },
     "output_type": "display_data"
    }
   ],
   "source": [
    "plt.imshow(W.T, aspect='auto')"
   ]
  },
  {
   "cell_type": "code",
   "execution_count": null,
   "metadata": {},
   "outputs": [],
   "source": [
    "from sklearn.manifold import TSNE\n",
    "\n",
    "tsne = TSNE(2)\n",
    "z2 = tsne.fit_transform(U[np.random.choice(U.shape[0], 3000, False)])\n",
    "plt.scatter(z2[:, 0], z2[:, 1], s=5)"
   ]
  },
  {
   "cell_type": "code",
   "execution_count": null,
   "metadata": {},
   "outputs": [],
   "source": [
    "z2 = tsne.fit_transform(V[np.random.choice(V.shape[0], 3000, False)])\n",
    "plt.scatter(z2[:, 0], z2[:, 1], s=5)"
   ]
  },
  {
   "cell_type": "code",
   "execution_count": null,
   "metadata": {},
   "outputs": [],
   "source": [
    "z2 = tsne.fit_transform(W)\n",
    "plt.scatter(z2[:, 0], z2[:, 1], s=5)"
   ]
  },
  {
   "cell_type": "code",
   "execution_count": null,
   "metadata": {},
   "outputs": [],
   "source": []
  }
 ],
 "metadata": {
  "kernelspec": {
   "display_name": "Python 3",
   "language": "python",
   "name": "python3"
  },
  "language_info": {
   "codemirror_mode": {
    "name": "ipython",
    "version": 3
   },
   "file_extension": ".py",
   "mimetype": "text/x-python",
   "name": "python",
   "nbconvert_exporter": "python",
   "pygments_lexer": "ipython3",
   "version": "3.6.9"
  }
 },
 "nbformat": 4,
 "nbformat_minor": 4
}
