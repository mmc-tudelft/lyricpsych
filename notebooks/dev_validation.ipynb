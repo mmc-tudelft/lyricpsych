{
 "cells": [
  {
   "cell_type": "code",
   "execution_count": 1,
   "metadata": {},
   "outputs": [],
   "source": [
    "import sys\n",
    "sys.path.append('..')\n",
    "\n",
    "import numpy as np\n",
    "\n",
    "from sklearn.multiclass import OneVsRestClassifier\n",
    "from sklearn.linear_model import LogisticRegression\n",
    "from sklearn.ensemble import RandomForestClassifier\n",
    "from sklearn.neural_network import MLPClassifier\n",
    "from sklearn.metrics import roc_auc_score\n",
    "\n",
    "from lyricpsych.utils import load_csr_data, prepare_feature\n",
    "from lyricpsych.files import mxm2msd as mxm2msd_fn\n",
    "\n",
    "mxm2msd = dict(\n",
    "    [line.strip('\\n').split(',') for line in open(mxm2msd_fn())]\n",
    ")\n",
    "msd2mxm = {msd:mxm for mxm, msd in mxm2msd.items()}"
   ]
  },
  {
   "cell_type": "code",
   "execution_count": 2,
   "metadata": {},
   "outputs": [],
   "source": [
    "labels, tracks, tags = load_csr_data(\n",
    "    '/hdd/data/autotagging_data.h5', 'tracks', 'tags'\n",
    ")"
   ]
  },
  {
   "cell_type": "code",
   "execution_count": 3,
   "metadata": {},
   "outputs": [],
   "source": [
    "# prepare feature\n",
    "feature, track2id, pca, sclr = prepare_feature(\n",
    "    '/hdd/data/text_feat_test.h5', None\n",
    ")"
   ]
  },
  {
   "cell_type": "code",
   "execution_count": 4,
   "metadata": {},
   "outputs": [],
   "source": [
    "X = np.concatenate(\n",
    "    [feature['linguistic'], feature['personality'], feature['topic']],\n",
    "    axis=1\n",
    ")\n",
    "X = X[[track2id[t] for t in tracks]]\n",
    "y = labels\n",
    "y.data[:] = 1\n",
    "y = y.toarray()\n",
    "\n",
    "whitelist = np.where(y.sum(1) > 0)[0]\n",
    "X = X[whitelist]\n",
    "y = y[whitelist]"
   ]
  },
  {
   "cell_type": "code",
   "execution_count": 5,
   "metadata": {},
   "outputs": [],
   "source": [
    "rnd_idx = np.random.permutation(X.shape[0])\n",
    "n_train = int(X.shape[0] * 0.8)\n",
    "Xtr, Xts = X[rnd_idx[:n_train]], X[rnd_idx[n_train:]]\n",
    "ytr, yts = y[rnd_idx[:n_train]], y[rnd_idx[n_train:]]"
   ]
  },
  {
   "cell_type": "code",
   "execution_count": null,
   "metadata": {},
   "outputs": [],
   "source": [
    "nn = MLPClassifier((100,), learning_rate_init=0.001, learning_rate='adaptive',\n",
    "                   early_stopping=True, alpha=0.01)\n",
    "nn.fit(Xtr, ytr)\n",
    "p = nn.predict_proba(Xts)"
   ]
  },
  {
   "cell_type": "code",
   "execution_count": 7,
   "metadata": {},
   "outputs": [],
   "source": [
    "rf = OneVsRestClassifier(RandomForestClassifier(100))\n",
    "rf.fit(Xtr, ytr)\n",
    "# p = np.concatenate(\n",
    "#     [p_[:, 1][:, None] for p_ in rf.predict_proba(Xts)],\n",
    "#     axis=1\n",
    "# )\n",
    "p = rf.predict_proba(Xts)"
   ]
  },
  {
   "cell_type": "code",
   "execution_count": null,
   "metadata": {},
   "outputs": [],
   "source": [
    "ovr = OneVsRestClassifier(LogisticRegression(solver='lbfgs'))\n",
    "ovr.fit(Xtr, ytr)\n",
    "p = ovr.predict_proba(Xts)"
   ]
  },
  {
   "cell_type": "code",
   "execution_count": 8,
   "metadata": {},
   "outputs": [
    {
     "name": "stdout",
     "output_type": "stream",
     "text": [
      "AUC_c: 0.6121 - AUC_t: 0.7187\n"
     ]
    }
   ],
   "source": [
    "auc_tag = roc_auc_score(yts, p, 'macro')\n",
    "auc_trk = roc_auc_score(yts, p, 'samples')\n",
    "\n",
    "print('AUC_c: {:.4f} - AUC_t: {:.4f}'.format(auc_tag, auc_trk))"
   ]
  },
  {
   "cell_type": "code",
   "execution_count": null,
   "metadata": {},
   "outputs": [],
   "source": []
  }
 ],
 "metadata": {
  "kernelspec": {
   "display_name": "Python 3",
   "language": "python",
   "name": "python3"
  },
  "language_info": {
   "codemirror_mode": {
    "name": "ipython",
    "version": 3
   },
   "file_extension": ".py",
   "mimetype": "text/x-python",
   "name": "python",
   "nbconvert_exporter": "python",
   "pygments_lexer": "ipython3",
   "version": "3.7.4"
  }
 },
 "nbformat": 4,
 "nbformat_minor": 4
}
